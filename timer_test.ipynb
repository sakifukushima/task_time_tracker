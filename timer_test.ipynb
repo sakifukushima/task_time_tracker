{
 "cells": [
  {
   "cell_type": "code",
   "execution_count": null,
   "metadata": {},
   "outputs": [],
   "source": [
    "import time\n",
    "\n",
    "def stop_watch(value):\n",
    "    epoch_time = time.time()\n",
    "    current_time = time.ctime(epoch_time)\n",
    "    print(\"Current time is: \" + str(current_time))\n",
    "\n",
    "    #Setting a start time\n",
    "    start_time = time.time()\n",
    "    last_time = start_time\n",
    "    lapnum = 1\n",
    "    value = \" \"\n",
    "\n",
    "    print(\"Press ENTER for each lap.\\nType Q and press ENTER to stop.\")\n",
    "\n",
    "    # turn the input value into lower case\n",
    "    # while the input is not stop, \n",
    "    while value.lower() != \"q\":\n",
    "        # input to start\n",
    "        value = input()\n",
    "        # current lap time\n",
    "        laptime = round((time.time() - start_time), 2)\n",
    "        # total time elapsed since the timer started\n",
    "        total_time = round((time.time() - last_time), 2)\n",
    "\n",
    "        # printing the lap number, lap time and total time\n",
    "        print(\"Lap No.\" + str(lapnum))\n",
    "        print(\"Total Time: \" + str(total_time))\n",
    "        print(\"Lap time: \" + str(laptime))\n",
    "\n",
    "        print(\"*\" * 20)\n",
    "\n",
    "        last_time = time.time()\n",
    "        lapnum += 1\n",
    "\n",
    "    print(\"complete\")"
   ]
  },
  {
   "cell_type": "code",
   "execution_count": null,
   "metadata": {},
   "outputs": [],
   "source": []
  }
 ],
 "metadata": {
  "kernelspec": {
   "display_name": "Python 3.8.3 64-bit",
   "language": "python",
   "name": "python3"
  },
  "language_info": {
   "codemirror_mode": {
    "name": "ipython",
    "version": 3
   },
   "file_extension": ".py",
   "mimetype": "text/x-python",
   "name": "python",
   "nbconvert_exporter": "python",
   "pygments_lexer": "ipython3",
   "version": "3.8.3"
  },
  "orig_nbformat": 4,
  "vscode": {
   "interpreter": {
    "hash": "aee8b7b246df8f9039afb4144a1f6fd8d2ca17a180786b69acc140d282b71a49"
   }
  }
 },
 "nbformat": 4,
 "nbformat_minor": 2
}
